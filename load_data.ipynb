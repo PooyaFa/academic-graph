{
 "cells": [
  {
   "cell_type": "code",
   "execution_count": 15,
   "metadata": {
    "collapsed": true
   },
   "outputs": [],
   "source": [
    "import sqlite3\n",
    "import os, sys\n",
    "\n",
    "data_dir = '/Users/xlx/Downloads/graph-data'\n",
    "db_file = os.path.join(data_dir, 'AcademicGraph.db')\n",
    "schema_file = os.path.join(data_dir, \"readme.txt\")"
   ]
  },
  {
   "cell_type": "code",
   "execution_count": 130,
   "metadata": {
    "collapsed": false
   },
   "outputs": [],
   "source": [
    "def read_schema_file(schema_file, table_name):\n",
    "    field_list = []\n",
    "    with open(schema_file, 'rt') as fh:\n",
    "        \n",
    "        for line in fh:\n",
    "            if line.strip() == table_name:\n",
    "                break\n",
    "        \n",
    "        cl = fh.readline().strip()\n",
    "        while len(cl) > 0:\n",
    "            tmp = cl.split('\\t', maxsplit=1)\n",
    "            field_list.append( tmp[1].replace(' ', '_').replace('(', '').replace(')', '') )\n",
    "            cl = fh.readline().strip()\n",
    "\n",
    "    if not field_list: #EOF reached\n",
    "        print(\"reached the end of {}, no {} found\".format(schema_file, table_name))\n",
    "\n",
    "    return field_list"
   ]
  },
  {
   "cell_type": "code",
   "execution_count": 146,
   "metadata": {
    "collapsed": false
   },
   "outputs": [
    {
     "name": "stdout",
     "output_type": "stream",
     "text": [
      "['Journal_ID', 'Journal_name']\n",
      "['Conference_series_ID', 'Short_name_abbreviation', 'Full_name']\n",
      "['Conference_series_ID', 'Conference_instance_ID', 'Short_name_abbreviation', 'Full_name', 'Location', 'Official_conference_URL', 'Conference_start_date', 'Conference_end_date', 'Conference_abstract_registration_date', 'Conference_submission_deadline_date', 'Conference_notification_due_date', 'Conference_final_version_due_date']\n"
     ]
    }
   ],
   "source": [
    "print( read_schema_file(schema_file, 'Journals') )\n",
    "print( read_schema_file(schema_file, 'ConferenceSeries') )\n",
    "print( read_schema_file(schema_file, 'ConferenceInstances') )"
   ]
  },
  {
   "cell_type": "code",
   "execution_count": 147,
   "metadata": {
    "collapsed": false
   },
   "outputs": [],
   "source": [
    "def creat_table(table_name, db_file, schema_file=schema_file, data_file=None):\n",
    "\tfield_list = read_schema_file(schema_file, table_name)\n",
    "\n",
    "\tconn = sqlite3.connect(db_file)\n",
    "\tc = conn.cursor()\n",
    "\t# flush+delete table if exist \n",
    "\tc.execute('DROP TABLE IF EXISTS ' + table_name) #want a tuple with >1 elements\n",
    "\tconn.commit()\n",
    "    # create table w. schema\n",
    "    ## CREATE TABLE stocks (date text, trans text, symbol text, qty real, price real)\n",
    "\tschema_str = ', '.join([f+' text' for f in field_list])\n",
    "\tprint(schema_str)\n",
    "\tcmd = \"CREATE TABLE {0} ({1})\".format(table_name, schema_str)\n",
    "\tc.execute(cmd )\n",
    "\tconn.commit()\n",
    "    \n",
    "    # now read some data\n",
    "\treadcnt = 0\n",
    "\tif data_file:\n",
    "\t\ttry:\n",
    "\t\t\tcur_data_list = []\n",
    "\t\t\tvalue_holder = ','.join( ['?' for f in field_list] )\n",
    "\t\t\tcmd = 'INSERT INTO ' + table_name + ' VALUES (' + value_holder + ')'\n",
    "\t\t\tprint(cmd)\n",
    "            \n",
    "\t\t\tfor s in open(data_file, 'r'):\n",
    "\t\t\t\tcur_tuple = tuple(s.strip().split('\\t'))\n",
    "\t\t\t\t#assert len(field_list)==len(cur_tuple), \"number of fields mismatch! - {} \".format(cur_tuple)\n",
    "\t\t\t\tif len(field_list) > len(cur_tuple): #pad emtpy to the end\n",
    "\t\t\t\t\tnum_missing = len(field_list) - len(cur_tuple)\n",
    "\t\t\t\t\tfor i in range(num_missing):\n",
    "\t\t\t\t\t\tcur_tuple = cur_tuple + (\"\",)\n",
    "\t\t\t\telif len(field_list) > len(cur_tuple):\n",
    "\t\t\t\t\t\"number of fields error! - {} \".format(cur_tuple)\n",
    "\t\t\t\tcur_data_list.append( cur_tuple )\n",
    "\t\t\t\treadcnt +=1 \n",
    "                \n",
    "\t\t\t\tif readcnt % 5000 == 0:                \n",
    "\t\t\t\t\tc.executemany(cmd, cur_data_list)\n",
    "\t\t\t\t\tconn.commit()\n",
    "\t\t\t\t\tcur_data_list = []\n",
    "\t\t\t\t\tprint(\"read {} lines\".format(readcnt))\n",
    "\t\t\t\t\n",
    "\t\t\t# finish the final write \n",
    "\t\t\tc.executemany(cmd, cur_data_list)\n",
    "\t\t\tconn.commit()\n",
    "\t\t\t\t\n",
    "\t\texcept OSError:\n",
    "\t\t\tprint(\"data file '{}' read error!\".format(data_file))\n",
    "\n",
    "    # simple counting check\n",
    "\tcmd = 'SELECT COUNT(*) FROM {}'.format(table_name)\n",
    "\tdatacnt = c.execute(cmd).fetchone()[0]\n",
    "\tprint( \"read {} rows from file, {} found in db \".format(readcnt, datacnt) )\n",
    "\tconn.close()"
   ]
  },
  {
   "cell_type": "code",
   "execution_count": 148,
   "metadata": {
    "collapsed": false
   },
   "outputs": [
    {
     "name": "stdout",
     "output_type": "stream",
     "text": [
      "Conference_series_ID text, Short_name_abbreviation text, Full_name text\n",
      "INSERT INTO ConferenceSeries VALUES (?,?,?)\n",
      "read 1275 rows from file, 1275 found in db \n",
      "Journal_ID text, Journal_name text\n",
      "INSERT INTO Journals VALUES (?,?)\n",
      "read 5000 lines\n",
      "read 10000 lines\n",
      "read 15000 lines\n",
      "read 20000 lines\n",
      "read 23568 rows from file, 23568 found in db \n",
      "Field_of_study_ID text, Field_of_study_name text\n",
      "INSERT INTO FieldsOfStudy VALUES (?,?)\n",
      "read 5000 lines\n",
      "read 10000 lines\n",
      "read 15000 lines\n",
      "read 20000 lines\n",
      "read 25000 lines\n",
      "read 30000 lines\n",
      "read 35000 lines\n",
      "read 40000 lines\n",
      "read 45000 lines\n",
      "read 50000 lines\n",
      "read 53834 rows from file, 53834 found in db \n",
      "Conference_series_ID text, Conference_instance_ID text, Short_name_abbreviation text, Full_name text, Location text, Official_conference_URL text, Conference_start_date text, Conference_end_date text, Conference_abstract_registration_date text, Conference_submission_deadline_date text, Conference_notification_due_date text, Conference_final_version_due_date text\n",
      "INSERT INTO ConferenceInstances VALUES (?,?,?,?,?,?,?,?,?,?,?,?)\n",
      "read 5000 lines\n",
      "read 10000 lines\n",
      "read 15000 lines\n",
      "read 20000 lines\n",
      "read 25000 lines\n",
      "read 30000 lines\n",
      "read 35000 lines\n",
      "read 40000 lines\n",
      "read 45000 lines\n",
      "read 50000 lines\n",
      "read 50202 rows from file, 50202 found in db \n"
     ]
    }
   ],
   "source": [
    "table_name_list = ['ConferenceSeries', 'Journals', 'FieldsOfStudy', 'ConferenceInstances']\n",
    "for table_name in table_name_list:\n",
    "    data_file = os.path.join(data_dir, table_name+'.txt')\n",
    "    creat_table(table_name, db_file, schema_file=schema_file, data_file=data_file)"
   ]
  },
  {
   "cell_type": "code",
   "execution_count": 137,
   "metadata": {
    "collapsed": false
   },
   "outputs": [
    {
     "name": "stdout",
     "output_type": "stream",
     "text": [
      "Journal_ID text, Journal_name text\n",
      "read 0 rows from file, 0 found in db \n",
      "Journal_ID text, Journal_name text\n",
      "INSERT INTO Journals VALUES (?,?)\n",
      "read 5000 lines\n",
      "read 10000 lines\n",
      "read 15000 lines\n",
      "read 20000 lines\n",
      "read 23568 rows from file, 23568 found in db \n"
     ]
    }
   ],
   "source": [
    "creat_table('Journals', db_file, schema_file=schema_file, data_file=None)\n",
    "\n",
    "data_file = os.path.join(data_dir, 'Journals'+'.txt')\n",
    "creat_table('Journals', db_file, schema_file=schema_file, data_file=data_file)"
   ]
  },
  {
   "cell_type": "code",
   "execution_count": null,
   "metadata": {
    "collapsed": true
   },
   "outputs": [],
   "source": []
  }
 ],
 "metadata": {
  "kernelspec": {
   "display_name": "Python 3",
   "language": "python",
   "name": "python3"
  },
  "language_info": {
   "codemirror_mode": {
    "name": "ipython",
    "version": 3
   },
   "file_extension": ".py",
   "mimetype": "text/x-python",
   "name": "python",
   "nbconvert_exporter": "python",
   "pygments_lexer": "ipython3",
   "version": "3.5.1"
  }
 },
 "nbformat": 4,
 "nbformat_minor": 0
}
