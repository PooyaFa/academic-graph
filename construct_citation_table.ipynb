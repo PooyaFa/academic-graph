{
 "cells": [
  {
   "cell_type": "code",
   "execution_count": 1,
   "metadata": {
    "collapsed": true
   },
   "outputs": [],
   "source": [
    "import sqlite3\n",
    "import os, sys\n",
    "import pandas as pd\n",
    "from datetime import datetime \n",
    "import numpy as np\n",
    "import pickle\n",
    "import warnings\n",
    "\n",
    "#data_dir = '/Users/xlx/Downloads/graph-data'\n",
    "data_dir = '/home/xlx/d2/MicrosoftAcademicGraph'\n",
    "conf_list = ['MM', 'CVPR', 'NIPS', 'ICML', 'IJCAI', 'PLDI']\n",
    "\n",
    "paper_db = os.path.join(data_dir, 'Paper.db')\n",
    "\n",
    "conn = sqlite3.connect(paper_db)\n",
    "cur = conn.cursor()\n",
    "\n",
    "load_ref = lambda fn: pd.read_table(fn, header=None, names=['PaperID', 'RefID'])\n",
    "\n",
    "conf_file = os.path.join(data_dir, 'data_txt', 'ConferenceSeries.txt')\n",
    "conf_df = pd.read_table(conf_file, header=None, names=['ConfID', 'Abbrv', 'FullName'])\n"
   ]
  },
  {
   "cell_type": "code",
   "execution_count": 2,
   "metadata": {
    "collapsed": false
   },
   "outputs": [
    {
     "name": "stdout",
     "output_type": "stream",
     "text": [
      "2016-01-29 17:14:33.327059 conference MM: 3389 papers (1992-2015)\n",
      "\t citing 47990 papers, cited by 68226\n"
     ]
    }
   ],
   "source": [
    "## create a new table with 6 columns\n",
    "\"\"\"\n",
    "paper (id, conf/jnl, year)  ref (id, conf/jnl, year)\n",
    "\"\"\"\n",
    "# for each conference, \n",
    "#for c in conf_list[:1]:\n",
    "c = conf_list[0]\n",
    "row = conf_df.loc[conf_df['Abbrv'] == c]\n",
    "conf_id = list(row['ConfID'])[0]\n",
    "\n",
    "conf_paper_file = os.path.join(data_dir, 'papers.'+ c +'.txt')\n",
    "df_paper = pd.read_table(conf_paper_file, header=None, \n",
    "                         names=['PaperID', 'TitleOrig', 'TitleNorm', 'PubYear', 'PubDate', \n",
    "                               'DOI', 'VenueOrig', 'VenueNorm', 'JournalID', 'ConfID', 'PaperRank' ])\n",
    "df_paper.head()\n",
    "set_paper = set(df_paper['PaperID'])\n",
    "\n",
    "citing_file = os.path.join(data_dir, 'citing.'+c+'.txt')\n",
    "df_citing = load_ref(citing_file)\n",
    "cited_file = os.path.join(data_dir, 'cited.'+c+'.txt')\n",
    "df_cited = load_ref(cited_file)\n",
    "print (\"{} conference {}: {} papers ({}-{})\".format(datetime.now(), c, df_paper['PaperID'].count(), \n",
    "                                               df_paper['PubYear'].min(), df_paper['PubYear'].max()))\n",
    "print (\"\\t citing {} papers, cited by {}\".format(df_citing['PaperID'].count(), df_cited['PaperID'].count()))\n",
    "\n",
    "# left joins for both the citing and cited\n",
    "dfx_citing = df_citing.merge(df_paper[['PaperID', 'PubYear', 'ConfID']], on='PaperID', how='left') \n",
    "dfx_citing = dfx_citing.rename(columns = {'PubYear':'PaperPubYear', 'ConfID':\"PaperConfID\"})\n",
    "dfx_citing['RefPubYear'] = 1000\n",
    "dfx_citing['RefVenueID'] = 'AAAAaaaa'\n",
    "\n",
    "dfx_cited = df_cited.merge(df_paper[['PaperID', 'PubYear', 'ConfID']], \n",
    "                           left_on=\"RefID\", right_on='PaperID', how='left') \n",
    "dfx_cited.drop('PaperID_y', axis=1, inplace=True)\n",
    "dfx_cited = dfx_cited.rename(columns = {'PubYear':'RefPubYear', 'ConfID':\"RefConfID\", \"PaperID_x\":\"PaperID\"})\n",
    "dfx_cited['PaperPubYear'] = 1000\n",
    "dfx_cited['PaperVenueID'] = 'AAAAaaaa'\n"
   ]
  },
  {
   "cell_type": "code",
   "execution_count": 6,
   "metadata": {
    "collapsed": false
   },
   "outputs": [
    {
     "name": "stdout",
     "output_type": "stream",
     "text": [
      "2016-01-29 17:30:15.606812   1000 /  47990 records\n",
      "2016-01-29 17:31:16.129990   2000 /  47990 records\n",
      "2016-01-29 17:32:04.096792   3000 /  47990 records\n",
      "2016-01-29 17:33:02.861884   4000 /  47990 records\n",
      "2016-01-29 17:34:05.344698   5000 /  47990 records\n",
      "2016-01-29 17:35:00.227603   6000 /  47990 records\n",
      "2016-01-29 17:35:45.700487   7000 /  47990 records\n",
      "2016-01-29 17:36:32.280588   8000 /  47990 records\n",
      "2016-01-29 17:37:21.454516   9000 /  47990 records\n",
      "2016-01-29 17:38:09.362160  10000 /  47990 records\n",
      "2016-01-29 17:39:21.506497  11000 /  47990 records\n",
      "2016-01-29 17:40:13.707829  12000 /  47990 records\n",
      "2016-01-29 17:41:04.785871  13000 /  47990 records\n",
      "2016-01-29 17:42:03.520394  14000 /  47990 records\n",
      "2016-01-29 17:43:04.439099  15000 /  47990 records\n",
      "2016-01-29 17:44:03.653242  16000 /  47990 records\n",
      "2016-01-29 17:45:07.323353  17000 /  47990 records\n",
      "2016-01-29 17:46:02.799611  18000 /  47990 records\n",
      "2016-01-29 17:46:57.406620  19000 /  47990 records\n",
      "2016-01-29 17:47:55.153754  20000 /  47990 records\n",
      "2016-01-29 17:48:55.150759  21000 /  47990 records\n",
      "2016-01-29 17:49:51.005680  22000 /  47990 records\n",
      "2016-01-29 17:50:47.904111  23000 /  47990 records\n",
      "2016-01-29 17:51:41.183321  24000 /  47990 records\n",
      "2016-01-29 17:52:39.180529  25000 /  47990 records\n",
      "2016-01-29 17:53:29.698271  26000 /  47990 records\n",
      "2016-01-29 17:54:20.385739  27000 /  47990 records\n",
      "2016-01-29 17:55:10.712260  28000 /  47990 records\n",
      "2016-01-29 17:56:00.999318  29000 /  47990 records\n",
      "2016-01-29 17:56:51.596653  30000 /  47990 records\n",
      "2016-01-29 17:57:41.864066  31000 /  47990 records\n",
      "2016-01-29 17:58:32.190766  32000 /  47990 records\n",
      "2016-01-29 17:59:22.229757  33000 /  47990 records\n",
      "2016-01-29 18:00:12.306578  34000 /  47990 records\n",
      "2016-01-29 18:01:02.147974  35000 /  47990 records\n",
      "2016-01-29 18:01:52.458108  36000 /  47990 records\n",
      "2016-01-29 18:02:42.728551  37000 /  47990 records\n",
      "2016-01-29 18:03:32.612588  38000 /  47990 records\n",
      "2016-01-29 18:04:22.792684  39000 /  47990 records\n",
      "2016-01-29 18:05:13.008048  40000 /  47990 records\n",
      "2016-01-29 18:06:03.878429  41000 /  47990 records\n",
      "2016-01-29 18:06:53.842159  42000 /  47990 records\n",
      "2016-01-29 18:07:43.909562  43000 /  47990 records\n",
      "2016-01-29 18:08:33.492719  44000 /  47990 records\n",
      "2016-01-29 18:09:23.397268  45000 /  47990 records\n",
      "2016-01-29 18:10:13.322651  46000 /  47990 records\n",
      "2016-01-29 18:11:03.342807  47000 /  47990 records\n"
     ]
    },
    {
     "name": "stderr",
     "output_type": "stream",
     "text": [
      "/home/xlx/d2/anaconda3/lib/python3.5/site-packages/ipykernel/__main__.py:7: SettingWithCopyWarning: \n",
      "A value is trying to be set on a copy of a slice from a DataFrame\n",
      "\n",
      "See the caveats in the documentation: http://pandas.pydata.org/pandas-docs/stable/indexing.html#indexing-view-versus-copy\n",
      "/home/xlx/d2/anaconda3/lib/python3.5/site-packages/ipykernel/__main__.py:8: SettingWithCopyWarning: \n",
      "A value is trying to be set on a copy of a slice from a DataFrame\n",
      "\n",
      "See the caveats in the documentation: http://pandas.pydata.org/pandas-docs/stable/indexing.html#indexing-view-versus-copy\n"
     ]
    }
   ],
   "source": [
    "# go over the citing db\n",
    "cnt = 0\n",
    "\n",
    "for idx, row in dfx_citing.iterrows():\n",
    "    cur.execute('SELECT * FROM paper_pruned WHERE id=?', (row['RefID'], ) )\n",
    "    s = cur.fetchone() \n",
    "    dfx_citing['RefPubYear'][idx] = s[1]\n",
    "    dfx_citing['RefVenueID'][idx] = s[2]\n",
    "    cnt += 1\n",
    "    if cnt % 1000 == 0 : # 2000000\n",
    "        print('{} {:6.0f} / {:6.0f} records'.format(\n",
    "                datetime.now(), cnt, df_citing['PaperID'].count() ) )\n",
    "    if cnt >= 1e9: #1e9:\n",
    "        break\n",
    "\n",
    "print('{} {:6.0f} / {:6.0f} records. Done.\\n\\n'.format(\n",
    "                datetime.now(), cnt, df_citing['PaperID'].count() ) )     "
   ]
  },
  {
   "cell_type": "code",
   "execution_count": null,
   "metadata": {
    "collapsed": true
   },
   "outputs": [],
   "source": [
    "# go over the cited db\n",
    "cnt = 0\n",
    "\n",
    "for idx, row in dfx_cited.iterrows():\n",
    "    cur.execute('SELECT * FROM paper_pruned WHERE id=?', (row['PaperID'], ) )\n",
    "    s = cur.fetchone() \n",
    "    dfx_cited['PaperPubYear'][idx] = s[1]\n",
    "    dfx_cited['PaperVenueID'][idx] = s[2]\n",
    "    cnt += 1\n",
    "    if cnt % 1000 == 0 : # 2000000\n",
    "        print('{} {:6.0f} / {:6.0f} records'.format(\n",
    "                datetime.now(), cnt, dfx_cited['PaperID'].count() ) )\n",
    "    if cnt >= 1e9: #1e9:\n",
    "        break\n",
    "\n",
    "print('{} {:6.0f} / {:6.0f} records. Done.\\n\\n'.format(\n",
    "                datetime.now(), cnt, dfx_cited['PaperID'].count() ) )"
   ]
  },
  {
   "cell_type": "code",
   "execution_count": 8,
   "metadata": {
    "collapsed": false
   },
   "outputs": [],
   "source": [
    "pickle.dump({\"name\":c, 'citing':dfx_citing, \"cited\":dfx_cited, \"paper\":df_paper}, \n",
    "           open(os.path.join(data_dir, 'cite_records.'+c+\".pkl\"), 'wb') ) "
   ]
  },
  {
   "cell_type": "code",
   "execution_count": null,
   "metadata": {
    "collapsed": true
   },
   "outputs": [],
   "source": [
    "ptr = 0 \n",
    "line_cnt = 0\n",
    "citing_cnt = [0, 0]\n",
    "cited_cnt = [0, 0]\n",
    "while ptr < len(paper_buf):        \n",
    "\n",
    "    eol = paper_buf.find('\\n', ptr)\n",
    "    row = paper_buf[ptr:eol].split('\\t')\n",
    "    line_cnt += 1\n",
    "    ptr = eol + 1\n",
    "    \"\"\" paper table columns\n",
    "        'PaperID', 'TitleOrig', 'TitleNorm', 'PubYear', 'PubDate', \n",
    "        'DOI', 'VenueOrig', 'VenueNorm', 'JournalID', 'ConfID', 'PaperRank'\n",
    "    \"\"\"\n",
    "\n",
    "    cur_pid = row[0]\n",
    "    r_ref = list(np.nonzero(dfx_citing['RefID'] == cur_pid)[0])\n",
    "    r_paper  = list(np.nonzero(dfx_cited['PaperID'] == cur_pid)[0])\n",
    "    \n",
    "    with warnings.catch_warnings():\n",
    "        warnings.simplefilter(\"ignore\")\n",
    "    \n",
    "        if len(r_ref) >0:\n",
    "            citing_cnt[0] += 1\n",
    "            for rid in r_ref:\n",
    "                # for each paper being cited by any paper in Conf\n",
    "                dfx_citing['RefPubYear'][rid] = row[3]\n",
    "                citing_cnt[1] += 1\n",
    "                if row[9]: # conference\n",
    "                    dfx_citing['RefVenueID'][rid] = row[9]\n",
    "                elif row[8]: # journal\n",
    "                    dfx_citing['RefVenueID'][rid] = row[8]\n",
    "\n",
    "        if len(r_paper) >0:\n",
    "            cited_cnt[0] += 1\n",
    "            for rid in r_paper:\n",
    "                cited_cnt[1] += 1\n",
    "                # for each paper citing by any paper in Conf\n",
    "                dfx_cited['PaperPubYear'][rid] = row[3]\n",
    "                if row[9]: # conference\n",
    "                    dfx_cited['PaperVenueID'][rid] = row[9]\n",
    "                elif row[8]:\n",
    "                    dfx_cited['PaperVenueID'][rid] = row[8]\n",
    "        \n",
    "\n",
    "    if line_cnt % 5000 == 0 : # 2000000\n",
    "        print('{} {:9.0f} lines; citing {:6.0f}, {:6.0f} unique; {:6.0f} cited, {:6.0f} unique'.format(\n",
    "                datetime.now(), line_cnt, citing_cnt[1], citing_cnt[0], cited_cnt[1], cited_cnt[0]) )\n",
    "    if line_cnt >= 1e9: #1e9:\n",
    "        break\n",
    "\n",
    "\n",
    "pickle.dump({\"name\":c, 'citing':dfx_citing, \"cited\":dfx_cited, \"paper\":df_paper}, \n",
    "           os.path.join(data_dir, 'cite_records.'+c+\".pkl\"))\n",
    "print('{} {:9.0f} lines; citing {:6.0f}, {:6.0f} unique; {:6.0f} cited, {:6.0f} unique\\n\\n'.format(\n",
    "                datetime.now(), line_cnt, citing_cnt[1], citing_cnt[0], cited_cnt[1], cited_cnt[0]) )\n"
   ]
  }
 ],
 "metadata": {
  "kernelspec": {
   "display_name": "Python 3",
   "language": "python",
   "name": "python3"
  },
  "language_info": {
   "codemirror_mode": {
    "name": "ipython",
    "version": 3
   },
   "file_extension": ".py",
   "mimetype": "text/x-python",
   "name": "python",
   "nbconvert_exporter": "python",
   "pygments_lexer": "ipython3",
   "version": "3.5.1"
  }
 },
 "nbformat": 4,
 "nbformat_minor": 0
}
