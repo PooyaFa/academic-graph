{
 "cells": [
  {
   "cell_type": "code",
   "execution_count": 1,
   "metadata": {
    "collapsed": true
   },
   "outputs": [],
   "source": [
    "import sqlite3\n",
    "import os, sys\n",
    "import pandas as pd\n",
    "from datetime import datetime \n",
    "import numpy as np\n",
    "import pickle\n",
    "import warnings\n",
    "\n",
    "#data_dir = '/Users/xlx/Downloads/graph-data'\n",
    "data_dir = '/home/xlx/d2/MicrosoftAcademicGraph'\n",
    "conf_list = ['MM', 'CVPR', 'NIPS', 'ICML', 'IJCAI', 'PLDI']\n",
    "\n",
    "paper_db = os.path.join(data_dir, 'Paper.db')\n",
    "\n",
    "conn = sqlite3.connect(paper_db)\n",
    "cur = conn.cursor()\n",
    "\n",
    "load_ref = lambda fn: pd.read_table(fn, header=None, names=['PaperID', 'RefID'])\n",
    "\n",
    "conf_file = os.path.join(data_dir, 'data_txt', 'Conferences.txt')\n",
    "conf_df = pd.read_table(conf_file, header=None, names=['ConfID', 'Abbrv', 'FullName'])\n"
   ]
  },
  {
   "cell_type": "code",
   "execution_count": 16,
   "metadata": {
    "collapsed": false
   },
   "outputs": [
    {
     "name": "stdout",
     "output_type": "stream",
     "text": [
      "2016-04-08 11:42:06.606135 conference PLDI: 1171 papers (1979-2015)\n",
      "\t citing 22040 papers, cited by 49083\n"
     ]
    }
   ],
   "source": [
    "## create a new table with 6 columns\n",
    "\"\"\"\n",
    "paper (id, conf/jnl, year)  ref (id, conf/jnl, year)\n",
    "\"\"\"\n",
    "# for each conference, \n",
    "#for c in conf_list[:1]:\n",
    "c = conf_list[-1]\n",
    "row = conf_df.loc[conf_df['Abbrv'] == c]\n",
    "conf_id = list(row['ConfID'])[0]\n",
    "\n",
    "output_dir = os.path.join(data_dir, 'out', c)\n",
    "\n",
    "conf_paper_file = os.path.join(output_dir, 'papers.'+ c +'.txt')\n",
    "df_paper = pd.read_table(conf_paper_file, header=None, \n",
    "                         names=['PaperID', 'TitleOrig', 'TitleNorm', 'PubYear', 'PubDate', \n",
    "                               'DOI', 'VenueOrig', 'VenueNorm', 'JournalID', 'ConfID', 'PaperRank' ])\n",
    "df_paper.head()\n",
    "set_paper = set(df_paper['PaperID'])\n",
    "\n",
    "citing_file = os.path.join(output_dir, 'citing.'+c+'.txt')\n",
    "df_citing = load_ref(citing_file)\n",
    "cited_file = os.path.join(output_dir, 'cited.'+c+'.txt')\n",
    "df_cited = load_ref(cited_file)\n",
    "print (\"{} conference {}: {} papers ({}-{})\".format(datetime.now(), c, df_paper['PaperID'].count(), \n",
    "                                               df_paper['PubYear'].min(), df_paper['PubYear'].max()))\n",
    "print (\"\\t citing {} papers, cited by {}\".format(df_citing['PaperID'].count(), df_cited['PaperID'].count()))\n",
    "\n",
    "# left joins for both the citing and cited\n",
    "dfx_citing = df_citing.merge(df_paper[['PaperID', 'PubYear', 'ConfID']], on='PaperID', how='left') \n",
    "dfx_citing = dfx_citing.rename(columns = {'PubYear':'PaperPubYear', 'ConfID':\"PaperConfID\"})\n",
    "dfx_citing['RefPubYear'] = 1000\n",
    "dfx_citing['RefVenueID'] = 'AAAAaaaa'\n",
    "\n",
    "dfx_cited = df_cited.merge(df_paper[['PaperID', 'PubYear', 'ConfID']], \n",
    "                           left_on=\"RefID\", right_on='PaperID', how='left') \n",
    "dfx_cited.drop('PaperID_y', axis=1, inplace=True)\n",
    "dfx_cited = dfx_cited.rename(columns = {'PubYear':'RefPubYear', 'ConfID':\"RefConfID\", \"PaperID_x\":\"PaperID\"})\n",
    "dfx_cited['PaperPubYear'] = 1000\n",
    "dfx_cited['PaperVenueID'] = 'AAAAaaaa'\n"
   ]
  },
  {
   "cell_type": "code",
   "execution_count": 19,
   "metadata": {
    "collapsed": false
   },
   "outputs": [
    {
     "data": {
      "text/html": [
       "<div>\n",
       "<table border=\"1\" class=\"dataframe\">\n",
       "  <thead>\n",
       "    <tr style=\"text-align: right;\">\n",
       "      <th></th>\n",
       "      <th>PaperID</th>\n",
       "      <th>RefID</th>\n",
       "      <th>PaperPubYear</th>\n",
       "      <th>PaperConfID</th>\n",
       "      <th>RefPubYear</th>\n",
       "      <th>RefVenueID</th>\n",
       "    </tr>\n",
       "  </thead>\n",
       "  <tbody>\n",
       "    <tr>\n",
       "      <th>0</th>\n",
       "      <td>750BF6DA</td>\n",
       "      <td>5A925212</td>\n",
       "      <td>1993</td>\n",
       "      <td>4332078</td>\n",
       "      <td>1989</td>\n",
       "      <td></td>\n",
       "    </tr>\n",
       "    <tr>\n",
       "      <th>1</th>\n",
       "      <td>751854B5</td>\n",
       "      <td>02E6B0E4</td>\n",
       "      <td>2013</td>\n",
       "      <td>4332078</td>\n",
       "      <td>2011</td>\n",
       "      <td>4549948F</td>\n",
       "    </tr>\n",
       "    <tr>\n",
       "      <th>2</th>\n",
       "      <td>751854B5</td>\n",
       "      <td>779724BD</td>\n",
       "      <td>2013</td>\n",
       "      <td>4332078</td>\n",
       "      <td>2013</td>\n",
       "      <td>074E39F8</td>\n",
       "    </tr>\n",
       "    <tr>\n",
       "      <th>3</th>\n",
       "      <td>751854B5</td>\n",
       "      <td>80BB4591</td>\n",
       "      <td>2013</td>\n",
       "      <td>4332078</td>\n",
       "      <td>2009</td>\n",
       "      <td>4332078E</td>\n",
       "    </tr>\n",
       "    <tr>\n",
       "      <th>4</th>\n",
       "      <td>75192A13</td>\n",
       "      <td>5916C0AD</td>\n",
       "      <td>1988</td>\n",
       "      <td>4332078</td>\n",
       "      <td>1981</td>\n",
       "      <td></td>\n",
       "    </tr>\n",
       "  </tbody>\n",
       "</table>\n",
       "</div>"
      ],
      "text/plain": [
       "    PaperID     RefID  PaperPubYear  PaperConfID  RefPubYear RefVenueID\n",
       "0  750BF6DA  5A925212          1993      4332078        1989           \n",
       "1  751854B5  02E6B0E4          2013      4332078        2011   4549948F\n",
       "2  751854B5  779724BD          2013      4332078        2013   074E39F8\n",
       "3  751854B5  80BB4591          2013      4332078        2009   4332078E\n",
       "4  75192A13  5916C0AD          1988      4332078        1981           "
      ]
     },
     "execution_count": 19,
     "metadata": {},
     "output_type": "execute_result"
    }
   ],
   "source": [
    "dfx_citing.head()"
   ]
  },
  {
   "cell_type": "code",
   "execution_count": 18,
   "metadata": {
    "collapsed": false
   },
   "outputs": [
    {
     "name": "stdout",
     "output_type": "stream",
     "text": [
      "2016-04-08 11:42:09.658902     50 /  22040 records\n",
      "2016-04-08 11:42:09.810734    100 /  22040 records\n",
      "2016-04-08 11:42:09.981142    150 /  22040 records\n",
      "2016-04-08 11:42:10.166852    200 /  22040 records\n",
      "2016-04-08 11:42:10.168863    200 /  22040 records. Done.\n",
      "\n",
      "\n"
     ]
    }
   ],
   "source": [
    "# go over the citing db\n",
    "cnt = 0\n",
    "\n",
    "for idx, row in dfx_citing.iterrows():\n",
    "    cur.execute('SELECT * FROM paper_pruned WHERE id=?', (row['RefID'], ) )\n",
    "    s = cur.fetchone() \n",
    "    #dfx_citing['RefPubYear'][idx] = s[1]\n",
    "    #dfx_citing['RefVenueID'][idx] = s[2]\n",
    "    dfx_citing.loc[idx, 'RefPubYear'] = s[1]\n",
    "    dfx_citing.loc[idx, 'RefVenueID'] = s[2]\n",
    "    cnt += 1\n",
    "    if cnt % 100 == 0 : # 2000000\n",
    "        print('{} {:6.0f} / {:6.0f} records'.format(\n",
    "                datetime.now(), cnt, df_citing['PaperID'].count() ) )\n",
    "    if cnt >= 1000: #1e9:\n",
    "        break\n",
    "\n",
    "print('{} {:6.0f} / {:6.0f} records. Done.\\n\\n'.format(\n",
    "                datetime.now(), cnt, df_citing['PaperID'].count() ) )     "
   ]
  },
  {
   "cell_type": "code",
   "execution_count": null,
   "metadata": {
    "collapsed": true
   },
   "outputs": [],
   "source": [
    "# go over the cited db\n",
    "cnt = 0\n",
    "\n",
    "for idx, row in dfx_cited.iterrows():\n",
    "    cur.execute('SELECT * FROM paper_pruned WHERE id=?', (row['PaperID'], ) )\n",
    "    s = cur.fetchone() \n",
    "    dfx_cited.loc[idx,'PaperPubYear'] = s[1]\n",
    "    dfx_cited.loc[idx,'PaperVenueID'] = s[2]\n",
    "    cnt += 1\n",
    "    if cnt % 1000 == 0 : # 2000000\n",
    "        print('{} {:6.0f} / {:6.0f} records'.format(\n",
    "                datetime.now(), cnt, dfx_cited['PaperID'].count() ) )\n",
    "    if cnt >= 1e9: #1e9:\n",
    "        break\n",
    "\n",
    "print('{} {:6.0f} / {:6.0f} records. Done.\\n\\n'.format(\n",
    "                datetime.now(), cnt, dfx_cited['PaperID'].count() ) )"
   ]
  },
  {
   "cell_type": "code",
   "execution_count": 8,
   "metadata": {
    "collapsed": false
   },
   "outputs": [],
   "source": [
    "pickle.dump({\"name\":c, 'citing':dfx_citing, \"cited\":dfx_cited, \"paper\":df_paper}, \n",
    "           open(os.path.join(output_dir, 'cite_records.'+c+\".pkl\"), 'wb') ) "
   ]
  },
  {
   "cell_type": "code",
   "execution_count": null,
   "metadata": {
    "collapsed": true
   },
   "outputs": [],
   "source": [
    "ptr = 0 \n",
    "line_cnt = 0\n",
    "citing_cnt = [0, 0]\n",
    "cited_cnt = [0, 0]\n",
    "while ptr < len(paper_buf):        \n",
    "\n",
    "    eol = paper_buf.find('\\n', ptr)\n",
    "    row = paper_buf[ptr:eol].split('\\t')\n",
    "    line_cnt += 1\n",
    "    ptr = eol + 1\n",
    "    \"\"\" paper table columns\n",
    "        'PaperID', 'TitleOrig', 'TitleNorm', 'PubYear', 'PubDate', \n",
    "        'DOI', 'VenueOrig', 'VenueNorm', 'JournalID', 'ConfID', 'PaperRank'\n",
    "    \"\"\"\n",
    "\n",
    "    cur_pid = row[0]\n",
    "    r_ref = list(np.nonzero(dfx_citing['RefID'] == cur_pid)[0])\n",
    "    r_paper  = list(np.nonzero(dfx_cited['PaperID'] == cur_pid)[0])\n",
    "    \n",
    "    with warnings.catch_warnings():\n",
    "        warnings.simplefilter(\"ignore\")\n",
    "    \n",
    "        if len(r_ref) >0:\n",
    "            citing_cnt[0] += 1\n",
    "            for rid in r_ref:\n",
    "                # for each paper being cited by any paper in Conf\n",
    "                dfx_citing['RefPubYear'][rid] = row[3]\n",
    "                citing_cnt[1] += 1\n",
    "                if row[9]: # conference\n",
    "                    dfx_citing['RefVenueID'][rid] = row[9]\n",
    "                elif row[8]: # journal\n",
    "                    dfx_citing['RefVenueID'][rid] = row[8]\n",
    "\n",
    "        if len(r_paper) >0:\n",
    "            cited_cnt[0] += 1\n",
    "            for rid in r_paper:\n",
    "                cited_cnt[1] += 1\n",
    "                # for each paper citing by any paper in Conf\n",
    "                dfx_cited['PaperPubYear'][rid] = row[3]\n",
    "                if row[9]: # conference\n",
    "                    dfx_cited['PaperVenueID'][rid] = row[9]\n",
    "                elif row[8]:\n",
    "                    dfx_cited['PaperVenueID'][rid] = row[8]\n",
    "        \n",
    "\n",
    "    if line_cnt % 5000 == 0 : # 2000000\n",
    "        print('{} {:9.0f} lines; citing {:6.0f}, {:6.0f} unique; {:6.0f} cited, {:6.0f} unique'.format(\n",
    "                datetime.now(), line_cnt, citing_cnt[1], citing_cnt[0], cited_cnt[1], cited_cnt[0]) )\n",
    "    if line_cnt >= 1e9: #1e9:\n",
    "        break\n",
    "\n",
    "\n",
    "pickle.dump({\"name\":c, 'citing':dfx_citing, \"cited\":dfx_cited, \"paper\":df_paper}, \n",
    "           os.path.join(output_dir, 'cite_records.'+c+\".pkl\"))\n",
    "print('{} {:9.0f} lines; citing {:6.0f}, {:6.0f} unique; {:6.0f} cited, {:6.0f} unique\\n\\n'.format(\n",
    "                datetime.now(), line_cnt, citing_cnt[1], citing_cnt[0], cited_cnt[1], cited_cnt[0]) )\n"
   ]
  }
 ],
 "metadata": {
  "kernelspec": {
   "display_name": "Python 3",
   "language": "python",
   "name": "python3"
  },
  "language_info": {
   "codemirror_mode": {
    "name": "ipython",
    "version": 3
   },
   "file_extension": ".py",
   "mimetype": "text/x-python",
   "name": "python",
   "nbconvert_exporter": "python",
   "pygments_lexer": "ipython3",
   "version": "3.5.1"
  }
 },
 "nbformat": 4,
 "nbformat_minor": 0
}
